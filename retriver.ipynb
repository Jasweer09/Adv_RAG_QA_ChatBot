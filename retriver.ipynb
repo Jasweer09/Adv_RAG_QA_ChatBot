{
 "cells": [
  {
   "cell_type": "code",
   "execution_count": null,
   "id": "faae4459",
   "metadata": {},
   "outputs": [
    {
     "data": {
      "text/plain": [
       "[Document(metadata={'producer': 'pdfTeX-1.40.26', 'creator': 'LaTeX with hyperref', 'creationdate': '2025-08-13T22:39:11+00:00', 'author': '', 'keywords': '', 'moddate': '2025-08-13T22:39:11+00:00', 'ptex.fullbanner': 'This is pdfTeX, Version 3.141592653-2.6-1.40.26 (TeX Live 2024) kpathsea version 6.4.0', 'subject': '', 'title': '', 'trapped': '/False', 'source': 'Jasweer_Tadikonda_MLE_Engineer.pdf', 'total_pages': 1, 'page': 0, 'page_label': ''}, page_content='(762) 247-0563\\nPhoenix, AZ, USA\\njasweertadikonda@gmail.com\\nJasweer Naidu Tadikonda\\nAI/ML Engineer\\nPortfolio: Jasweer-Tadikonda.dev\\ngithub.com/Jasweer09\\nlinkedin.com/in/jasweernaidutadikonda\\nSUMMARY\\nAI/MLEngineerwitharound5yearsofexperiencedeliveringadvancedmachinelearningsolutionsinfrauddetection,NLP,andhealthcare\\nanalytics, achieving up to 25% performance improvements. Skilled in Python, TensorFlow, PyTorch, and Azure for model development\\nand MLOps, with expertise in predictive analytics and Large Language Models (LLMs). M.S. in Computer Science (3.9 GPA, Class of\\n2025)withAI-focusedmentorshipexperience. Committedtodrivinginnovationindata-drivenapplicationsthroughtechnicalexcellence\\nand collaboration.\\nSKILLS\\nProgramming Languages Python, Java, SQL, C++\\nMachine Learning & AI Regression, Classification, Clustering, Artificial Intelligence, Natural Language Processing (NLP),\\nLarge Language Models (BERT, GPT), Neural Networks (CNN, RNN, LSTM), Hyperparameter\\nTuning, Predictive Analytics, Statistical Analysis\\nDeep Learning Frameworks TensorFlow, PyTorch, Keras, Hugging Face Transformers\\nMLOps Engineering MLFlow, FastAPI, Docker, Kubernetes, Jupyter Notebook, Google Colab, RestAPI’s, Git\\nData Engineering Pandas, NumPy, Apache Airflow, Apache Spark, Kafka, Hadoop, MongoDB, NoSQL, SQL, ETL\\nPipelines, Azure DataBricks\\nData Analytics Plotly, Steamlit, Matplotlib, Seaborn\\nCloud Platforms AWS (S3, Lambda, SageMaker), Azure (Azure DataBricks, OpenAI Studio),\\nEXPERIENCE\\nTeaching Assistant Jan 2025 - May 2025\\nNorthern Arizona University Flagstaff, AZ\\n• Mentored students on Large Language Models (LLMs) and AI algorithms, enhancing understanding of NLP and model optimization\\n• Curated and preprocessed public datasets for AI/ML projects, improving data quality and project relevance by 15Guided students in\\nimplementing machine learning models, troubleshooting technical issues to ensure successful outcomes.\\nAI Engineer Jun 2023 - Dec 2023\\nInfosys Ltd Hyderabad, India\\n• Spearheaded development of a Churn Prediction System with integrated sentiment analysis using RNN, BiLSTM, and BERT on\\nAzure Databricks and Delta Lake.\\n• Designed and optimized ETL pipelines with PySpark, Pandas, and Azure services, reducing preprocessing time by 40%.\\n• Improved predictive analytics for customer behavior by 25% through advanced model training and hyperparameter tuning.\\n• Implemented AI solutions across Azure and AWS, integrating via REST APIs for 20% higher scalability\\n• Orchestrated MLOps workflows with MLflow, CI/CD, and Azure Machine Learning for automated model lifecycle management.\\nJava Developer - Junior AI Engineer Aug 2020 - Jun 2023\\nTata Consultancy Serivces Hyderabad, India\\n• Delivered a Fraud Detection System improving detection accuracy by 18% using PyTorch, Scikit-learn, and predictive analytics.\\n• Engineered optimized features for datasets with 100K+ records using SQL and Spark, improving training efficiency by 25%.\\n• Managed cloud deployment on AWS using MLOps (MLflow, Jenkins, Git), reducing costs by 15% while maintaining 99% uptime.\\n• Developed business logic, transaction processing, and API integrations for Core Banking Applications.\\n• Resolved critical software defects, boosting system stability by 15\\n• Delivered new feature enhancements for transaction and account management modules in line with evolving business needs.\\nAI Engineer Intern Jan 2020 - July 2020\\nSmart Bridge in Collaboration with IBM Hyderabad, India\\n• Created ML models for retail using Python and TensorFlow, deploying CNN-based Smart People Counters to 10+ locations.\\n• Refined large-scale data pipelines, improving analytics accuracy by 20\\n• Collaborated with teams to integrate solutions, driving adoption by 15+ retail managers.\\nPROJECTS\\nIntelligent Learning Assistant: Restricting AI Guidance via Prompt Injection Detection\\n• Built an NLP-based Intelligent Learning Assistant using BERT and Transformers to guide 200+ students through stepwise learning\\nworkflows, improving task accuracy by 35%.\\n• Integrated prompt injection detection and educator feedback loops, increasing system integrity by 30% and enhancing learning\\noutcome evaluation by 40%.\\nNYC Taxi Trip Duration Prediction – ML Engineering Case Study\\n• Built an end-to-end ML pipeline on 10M+ NYC taxi rides using PySpark, with feature engineering, Ridge Regression, and MLflow\\nexperiment tracking\\n• Deployed a real-time prediction web app with FastAPI, MLflow model serving, and Docker containerization.\\nCERTIFICATIONS\\nIBM AI Engineering Professional Certificate April 2025\\nDeep Learning with keras and Tensorflow March 2025\\nDeep Learning with Pytorch March 2025\\nEDUCATION\\nMaster of Science in Computer Science,Northern Arizona University Jan 2024 - May 2025\\nBachelor of Technology in Computer Science,Jawaharlal Nehru Technological University Jun 2016 - Sep 2020')]"
      ]
     },
     "execution_count": 1,
     "metadata": {},
     "output_type": "execute_result"
    }
   ],
   "source": [
    "#Data Ingestion using PDFLoader\n",
    "from langchain_community.document_loaders import PyPDFLoader\n",
    "loader = PyPDFLoader(\"Jasweer_Tadikonda_MLE_Engineer.pdf\")\n",
    "document = loader.load()\n",
    "document\n",
    "\n"
   ]
  },
  {
   "cell_type": "code",
   "execution_count": 4,
   "id": "9e161e64",
   "metadata": {},
   "outputs": [],
   "source": [
    "#Perfroming Chucking using RecursiveCharacterTextSplitter\n",
    "from langchain.text_splitter import RecursiveCharacterTextSplitter\n",
    "text_splitter = RecursiveCharacterTextSplitter(chunk_size = 1000, chunk_overlap = 20)\n",
    "documents = text_splitter.split_documents(document)"
   ]
  },
  {
   "cell_type": "code",
   "execution_count": 7,
   "id": "baba165b",
   "metadata": {},
   "outputs": [],
   "source": [
    "#Performing and storing into Vectorstore FIASS\n",
    "from langchain_community.embeddings import OllamaEmbeddings\n",
    "from langchain_community.vectorstores import FAISS\n",
    "\n",
    "db = FAISS.from_documents(documents, OllamaEmbeddings())"
   ]
  },
  {
   "cell_type": "code",
   "execution_count": 9,
   "id": "363be59b",
   "metadata": {},
   "outputs": [
    {
     "data": {
      "text/plain": [
       "[(Document(id='d9d75814-2da4-4ecc-84cd-0768afb2b14d', metadata={'producer': 'pdfTeX-1.40.26', 'creator': 'LaTeX with hyperref', 'creationdate': '2025-08-13T22:39:11+00:00', 'author': '', 'keywords': '', 'moddate': '2025-08-13T22:39:11+00:00', 'ptex.fullbanner': 'This is pdfTeX, Version 3.141592653-2.6-1.40.26 (TeX Live 2024) kpathsea version 6.4.0', 'subject': '', 'title': '', 'trapped': '/False', 'source': 'Jasweer_Tadikonda_MLE_Engineer.pdf', 'total_pages': 1, 'page': 0, 'page_label': ''}, page_content='Infosys Ltd Hyderabad, India\\n• Spearheaded development of a Churn Prediction System with integrated sentiment analysis using RNN, BiLSTM, and BERT on\\nAzure Databricks and Delta Lake.\\n• Designed and optimized ETL pipelines with PySpark, Pandas, and Azure services, reducing preprocessing time by 40%.\\n• Improved predictive analytics for customer behavior by 25% through advanced model training and hyperparameter tuning.\\n• Implemented AI solutions across Azure and AWS, integrating via REST APIs for 20% higher scalability\\n• Orchestrated MLOps workflows with MLflow, CI/CD, and Azure Machine Learning for automated model lifecycle management.\\nJava Developer - Junior AI Engineer Aug 2020 - Jun 2023\\nTata Consultancy Serivces Hyderabad, India\\n• Delivered a Fraud Detection System improving detection accuracy by 18% using PyTorch, Scikit-learn, and predictive analytics.\\n• Engineered optimized features for datasets with 100K+ records using SQL and Spark, improving training efficiency by 25%.'),\n",
       "  np.float32(12002.707)),\n",
       " (Document(id='1f3543a8-0719-47df-a790-d11197a28488', metadata={'producer': 'pdfTeX-1.40.26', 'creator': 'LaTeX with hyperref', 'creationdate': '2025-08-13T22:39:11+00:00', 'author': '', 'keywords': '', 'moddate': '2025-08-13T22:39:11+00:00', 'ptex.fullbanner': 'This is pdfTeX, Version 3.141592653-2.6-1.40.26 (TeX Live 2024) kpathsea version 6.4.0', 'subject': '', 'title': '', 'trapped': '/False', 'source': 'Jasweer_Tadikonda_MLE_Engineer.pdf', 'total_pages': 1, 'page': 0, 'page_label': ''}, page_content='• Managed cloud deployment on AWS using MLOps (MLflow, Jenkins, Git), reducing costs by 15% while maintaining 99% uptime.\\n• Developed business logic, transaction processing, and API integrations for Core Banking Applications.\\n• Resolved critical software defects, boosting system stability by 15\\n• Delivered new feature enhancements for transaction and account management modules in line with evolving business needs.\\nAI Engineer Intern Jan 2020 - July 2020\\nSmart Bridge in Collaboration with IBM Hyderabad, India\\n• Created ML models for retail using Python and TensorFlow, deploying CNN-based Smart People Counters to 10+ locations.\\n• Refined large-scale data pipelines, improving analytics accuracy by 20\\n• Collaborated with teams to integrate solutions, driving adoption by 15+ retail managers.\\nPROJECTS\\nIntelligent Learning Assistant: Restricting AI Guidance via Prompt Injection Detection'),\n",
       "  np.float32(13608.607)),\n",
       " (Document(id='fa1fa450-daba-4486-80e0-8700bd220175', metadata={'producer': 'pdfTeX-1.40.26', 'creator': 'LaTeX with hyperref', 'creationdate': '2025-08-13T22:39:11+00:00', 'author': '', 'keywords': '', 'moddate': '2025-08-13T22:39:11+00:00', 'ptex.fullbanner': 'This is pdfTeX, Version 3.141592653-2.6-1.40.26 (TeX Live 2024) kpathsea version 6.4.0', 'subject': '', 'title': '', 'trapped': '/False', 'source': 'Jasweer_Tadikonda_MLE_Engineer.pdf', 'total_pages': 1, 'page': 0, 'page_label': ''}, page_content='Bachelor of Technology in Computer Science,Jawaharlal Nehru Technological University Jun 2016 - Sep 2020'),\n",
       "  np.float32(13901.088)),\n",
       " (Document(id='5b821352-e761-431c-8a50-acb98890d261', metadata={'producer': 'pdfTeX-1.40.26', 'creator': 'LaTeX with hyperref', 'creationdate': '2025-08-13T22:39:11+00:00', 'author': '', 'keywords': '', 'moddate': '2025-08-13T22:39:11+00:00', 'ptex.fullbanner': 'This is pdfTeX, Version 3.141592653-2.6-1.40.26 (TeX Live 2024) kpathsea version 6.4.0', 'subject': '', 'title': '', 'trapped': '/False', 'source': 'Jasweer_Tadikonda_MLE_Engineer.pdf', 'total_pages': 1, 'page': 0, 'page_label': ''}, page_content='• Built an NLP-based Intelligent Learning Assistant using BERT and Transformers to guide 200+ students through stepwise learning\\nworkflows, improving task accuracy by 35%.\\n• Integrated prompt injection detection and educator feedback loops, increasing system integrity by 30% and enhancing learning\\noutcome evaluation by 40%.\\nNYC Taxi Trip Duration Prediction – ML Engineering Case Study\\n• Built an end-to-end ML pipeline on 10M+ NYC taxi rides using PySpark, with feature engineering, Ridge Regression, and MLflow\\nexperiment tracking\\n• Deployed a real-time prediction web app with FastAPI, MLflow model serving, and Docker containerization.\\nCERTIFICATIONS\\nIBM AI Engineering Professional Certificate April 2025\\nDeep Learning with keras and Tensorflow March 2025\\nDeep Learning with Pytorch March 2025\\nEDUCATION\\nMaster of Science in Computer Science,Northern Arizona University Jan 2024 - May 2025'),\n",
       "  np.float32(13968.627))]"
      ]
     },
     "execution_count": 9,
     "metadata": {},
     "output_type": "execute_result"
    }
   ],
   "source": [
    "#querying the vector store\n",
    "query = \"Tell me your Fraud Detection Project?\"\n",
    "result = db.similarity_search_with_score(query)\n",
    "result"
   ]
  },
  {
   "cell_type": "code",
   "execution_count": null,
   "id": "9811f017",
   "metadata": {},
   "outputs": [
    {
     "name": "stderr",
     "output_type": "stream",
     "text": [
      "C:\\Users\\jaswe\\AppData\\Local\\Temp\\ipykernel_2984\\3420522759.py:2: LangChainDeprecationWarning: The class `Ollama` was deprecated in LangChain 0.3.1 and will be removed in 1.0.0. An updated version of the class exists in the :class:`~langchain-ollama package and should be used instead. To use it run `pip install -U :class:`~langchain-ollama` and import as `from :class:`~langchain_ollama import OllamaLLM``.\n",
      "  llm = Ollama(model = 'llama2')\n"
     ]
    },
    {
     "data": {
      "text/plain": [
       "Ollama()"
      ]
     },
     "execution_count": 10,
     "metadata": {},
     "output_type": "execute_result"
    }
   ],
   "source": [
    "#Define the Model\n",
    "from langchain_community.llms import Ollama\n",
    "llm = Ollama(model = 'llama2')\n",
    "llm"
   ]
  },
  {
   "cell_type": "code",
   "execution_count": null,
   "id": "875e36cb",
   "metadata": {},
   "outputs": [],
   "source": [
    "#Create a Prompt\n",
    "from langchain_core.prompts import ChatPromptTemplate\n",
    "prompt = ChatPromptTemplate.from_template(\"\"\"\n",
    "Answer the following question based only on the provided context.\n",
    "Think step by step before providing a detailed answer.\n",
    "I will provide reward points based on user find the answer helpful.\n",
    "<context>\n",
    "    {context}\n",
    "<context>\n",
    "Question: {input}\n",
    "\"\"\")"
   ]
  },
  {
   "cell_type": "code",
   "execution_count": 12,
   "id": "1b27001b",
   "metadata": {},
   "outputs": [],
   "source": [
    "#Create a Chain\n",
    "from langchain.chains.combine_documents import create_stuff_documents_chain\n",
    "\n",
    "document_chain = create_stuff_documents_chain(llm, prompt)\n",
    "\n",
    "retriver = db.as_retriever()"
   ]
  },
  {
   "cell_type": "code",
   "execution_count": 13,
   "id": "a3b99e3d",
   "metadata": {},
   "outputs": [
    {
     "data": {
      "text/plain": [
       "{'input': 'Tell me about Jasweer?',\n",
       " 'context': [Document(id='d9d75814-2da4-4ecc-84cd-0768afb2b14d', metadata={'producer': 'pdfTeX-1.40.26', 'creator': 'LaTeX with hyperref', 'creationdate': '2025-08-13T22:39:11+00:00', 'author': '', 'keywords': '', 'moddate': '2025-08-13T22:39:11+00:00', 'ptex.fullbanner': 'This is pdfTeX, Version 3.141592653-2.6-1.40.26 (TeX Live 2024) kpathsea version 6.4.0', 'subject': '', 'title': '', 'trapped': '/False', 'source': 'Jasweer_Tadikonda_MLE_Engineer.pdf', 'total_pages': 1, 'page': 0, 'page_label': ''}, page_content='Infosys Ltd Hyderabad, India\\n• Spearheaded development of a Churn Prediction System with integrated sentiment analysis using RNN, BiLSTM, and BERT on\\nAzure Databricks and Delta Lake.\\n• Designed and optimized ETL pipelines with PySpark, Pandas, and Azure services, reducing preprocessing time by 40%.\\n• Improved predictive analytics for customer behavior by 25% through advanced model training and hyperparameter tuning.\\n• Implemented AI solutions across Azure and AWS, integrating via REST APIs for 20% higher scalability\\n• Orchestrated MLOps workflows with MLflow, CI/CD, and Azure Machine Learning for automated model lifecycle management.\\nJava Developer - Junior AI Engineer Aug 2020 - Jun 2023\\nTata Consultancy Serivces Hyderabad, India\\n• Delivered a Fraud Detection System improving detection accuracy by 18% using PyTorch, Scikit-learn, and predictive analytics.\\n• Engineered optimized features for datasets with 100K+ records using SQL and Spark, improving training efficiency by 25%.'),\n",
       "  Document(id='70f356d4-b61b-4766-9250-2c869e4f8f72', metadata={'producer': 'pdfTeX-1.40.26', 'creator': 'LaTeX with hyperref', 'creationdate': '2025-08-13T22:39:11+00:00', 'author': '', 'keywords': '', 'moddate': '2025-08-13T22:39:11+00:00', 'ptex.fullbanner': 'This is pdfTeX, Version 3.141592653-2.6-1.40.26 (TeX Live 2024) kpathsea version 6.4.0', 'subject': '', 'title': '', 'trapped': '/False', 'source': 'Jasweer_Tadikonda_MLE_Engineer.pdf', 'total_pages': 1, 'page': 0, 'page_label': ''}, page_content='Tuning, Predictive Analytics, Statistical Analysis\\nDeep Learning Frameworks TensorFlow, PyTorch, Keras, Hugging Face Transformers\\nMLOps Engineering MLFlow, FastAPI, Docker, Kubernetes, Jupyter Notebook, Google Colab, RestAPI’s, Git\\nData Engineering Pandas, NumPy, Apache Airflow, Apache Spark, Kafka, Hadoop, MongoDB, NoSQL, SQL, ETL\\nPipelines, Azure DataBricks\\nData Analytics Plotly, Steamlit, Matplotlib, Seaborn\\nCloud Platforms AWS (S3, Lambda, SageMaker), Azure (Azure DataBricks, OpenAI Studio),\\nEXPERIENCE\\nTeaching Assistant Jan 2025 - May 2025\\nNorthern Arizona University Flagstaff, AZ\\n• Mentored students on Large Language Models (LLMs) and AI algorithms, enhancing understanding of NLP and model optimization\\n• Curated and preprocessed public datasets for AI/ML projects, improving data quality and project relevance by 15Guided students in\\nimplementing machine learning models, troubleshooting technical issues to ensure successful outcomes.\\nAI Engineer Jun 2023 - Dec 2023'),\n",
       "  Document(id='5b821352-e761-431c-8a50-acb98890d261', metadata={'producer': 'pdfTeX-1.40.26', 'creator': 'LaTeX with hyperref', 'creationdate': '2025-08-13T22:39:11+00:00', 'author': '', 'keywords': '', 'moddate': '2025-08-13T22:39:11+00:00', 'ptex.fullbanner': 'This is pdfTeX, Version 3.141592653-2.6-1.40.26 (TeX Live 2024) kpathsea version 6.4.0', 'subject': '', 'title': '', 'trapped': '/False', 'source': 'Jasweer_Tadikonda_MLE_Engineer.pdf', 'total_pages': 1, 'page': 0, 'page_label': ''}, page_content='• Built an NLP-based Intelligent Learning Assistant using BERT and Transformers to guide 200+ students through stepwise learning\\nworkflows, improving task accuracy by 35%.\\n• Integrated prompt injection detection and educator feedback loops, increasing system integrity by 30% and enhancing learning\\noutcome evaluation by 40%.\\nNYC Taxi Trip Duration Prediction – ML Engineering Case Study\\n• Built an end-to-end ML pipeline on 10M+ NYC taxi rides using PySpark, with feature engineering, Ridge Regression, and MLflow\\nexperiment tracking\\n• Deployed a real-time prediction web app with FastAPI, MLflow model serving, and Docker containerization.\\nCERTIFICATIONS\\nIBM AI Engineering Professional Certificate April 2025\\nDeep Learning with keras and Tensorflow March 2025\\nDeep Learning with Pytorch March 2025\\nEDUCATION\\nMaster of Science in Computer Science,Northern Arizona University Jan 2024 - May 2025'),\n",
       "  Document(id='fa1fa450-daba-4486-80e0-8700bd220175', metadata={'producer': 'pdfTeX-1.40.26', 'creator': 'LaTeX with hyperref', 'creationdate': '2025-08-13T22:39:11+00:00', 'author': '', 'keywords': '', 'moddate': '2025-08-13T22:39:11+00:00', 'ptex.fullbanner': 'This is pdfTeX, Version 3.141592653-2.6-1.40.26 (TeX Live 2024) kpathsea version 6.4.0', 'subject': '', 'title': '', 'trapped': '/False', 'source': 'Jasweer_Tadikonda_MLE_Engineer.pdf', 'total_pages': 1, 'page': 0, 'page_label': ''}, page_content='Bachelor of Technology in Computer Science,Jawaharlal Nehru Technological University Jun 2016 - Sep 2020')],\n",
       " 'answer': ' Based on the provided context, I can infer that Jasweer is a data scientist or AI engineer who has worked on various projects involving natural language processing (NLP), machine learning (ML), and deep learning. Here are some details about Jasweer based on the information provided:\\n\\n1. Experience: Jasweer has worked as an AI Engineer at Infosys Ltd in Hyderabad, India, where they led the development of a churn prediction system with integrated sentiment analysis using RNN, BiLSTM, and BERT on Azure Databricks and Delta Lake. They also designed and optimized ETL pipelines with PySpark, Pandas, and Azure services, reducing preprocessing time by 40%.\\n2. Technical skills: Jasweer is proficient in various deep learning frameworks such as TensorFlow, PyTorch, Keras, and Hugging Face Transformers. They are also familiar with ML engineering tools like MLflow, FastAPI, Docker, Kubernetes, Jupyter Notebook, Google Colab, REST APIs, and Git.\\n3. Education: Jasweer holds a Master of Science in Computer Science degree from Northern Arizona University, where they graduated in May 2025. They also have a Bachelor of Technology in Computer Science degree from Jawaharlal Nehru Technological University, which they completed in September 2020.\\n4. Certifications: Jasweer has obtained certifications in AI engineering and deep learning, including the IBM AI Engineering Professional Certificate and Deep Learning with Keras and TensorFlow certificates in March 2025.\\n5. Projects: Jasweer has worked on several projects involving NLP and ML, such as developing a Fraud Detection System using PyTorch and Scikit-learn, building an NLP-based Intelligent Learning Assistant using BERT and Transformers, and creating a real-time prediction web app with FastAPI, MLflow model serving, and Docker containerization.\\n\\nBased on these details, Jasweer appears to be a skilled AI engineer with expertise in NLP, ML, and deep learning. They have worked on various projects involving these technologies and have a strong educational background in computer science.'}"
      ]
     },
     "execution_count": 13,
     "metadata": {},
     "output_type": "execute_result"
    }
   ],
   "source": [
    "#Retrival Chain\n",
    "from langchain.chains import create_retrieval_chain\n",
    "retrival_chain = create_retrieval_chain(retriver, document_chain)\n",
    "retrival_chain.invoke({\"input\":\"Tell me about Jasweer?\"})"
   ]
  },
  {
   "cell_type": "code",
   "execution_count": null,
   "id": "35d92207",
   "metadata": {},
   "outputs": [],
   "source": []
  }
 ],
 "metadata": {
  "kernelspec": {
   "display_name": "Lvenv (3.12.0)",
   "language": "python",
   "name": "python3"
  },
  "language_info": {
   "codemirror_mode": {
    "name": "ipython",
    "version": 3
   },
   "file_extension": ".py",
   "mimetype": "text/x-python",
   "name": "python",
   "nbconvert_exporter": "python",
   "pygments_lexer": "ipython3",
   "version": "3.12.0"
  }
 },
 "nbformat": 4,
 "nbformat_minor": 5
}
